{
 "cells": [
  {
   "cell_type": "code",
   "execution_count": 1,
   "id": "8ff01fec-f387-427d-81b0-f8b518f208b9",
   "metadata": {},
   "outputs": [
    {
     "name": "stdout",
     "output_type": "stream",
     "text": [
      "Set: {1, 2, 3, 4, 5}\n"
     ]
    }
   ],
   "source": [
    "# Creating a set\n",
    "my_set = {1, 2, 3, 4, 5}\n",
    "print(\"Set:\", my_set)"
   ]
  },
  {
   "cell_type": "code",
   "execution_count": 3,
   "id": "8663fefc-91d7-4bb9-85f7-00a6025be3e1",
   "metadata": {},
   "outputs": [
    {
     "name": "stdout",
     "output_type": "stream",
     "text": [
      "{1, 2, 3, 4, 5, 9}\n"
     ]
    }
   ],
   "source": [
    "#Basic set operation\n",
    "#add element\n",
    "my_set.add(9)\n",
    "print(my_set)"
   ]
  },
  {
   "cell_type": "code",
   "execution_count": 3,
   "id": "304f605e-56df-4dfc-8bcf-e8281c70df24",
   "metadata": {},
   "outputs": [
    {
     "name": "stdout",
     "output_type": "stream",
     "text": [
      "{1, 2, 4, 5}\n"
     ]
    }
   ],
   "source": [
    "#delect element\n",
    "my_set = {1, 2, 3, 4, 5}\n",
    "my_set.remove(3)\n",
    "print(my_set)"
   ]
  },
  {
   "cell_type": "code",
   "execution_count": 4,
   "id": "f470f4dd-c3b1-433e-a4ed-0a6ef21f974e",
   "metadata": {},
   "outputs": [
    {
     "name": "stdout",
     "output_type": "stream",
     "text": [
      "Set after discarding 10 (not present): {1, 2, 4, 5}\n"
     ]
    }
   ],
   "source": [
    "# Discarding  element\n",
    "my_set.discard(10)  # Safe way to remove an element if unsure about its presence\n",
    "print(\"Set after discarding 10 (not present):\", my_set)"
   ]
  },
  {
   "cell_type": "code",
   "execution_count": 5,
   "id": "4f312860-efd3-4dd3-a5af-8018438ab9e5",
   "metadata": {},
   "outputs": [],
   "source": [
    "# Two example sets\n",
    "set_a = {1, 2, 3, 4}\n",
    "set_b = {3, 4, 5, 6}"
   ]
  },
  {
   "cell_type": "code",
   "execution_count": 6,
   "id": "89ac050d-69f0-4401-bae4-4454213c6ff1",
   "metadata": {},
   "outputs": [
    {
     "name": "stdout",
     "output_type": "stream",
     "text": [
      "Union: {1, 2, 3, 4, 5, 6}\n"
     ]
    }
   ],
   "source": [
    "# Union\n",
    "union_set = set_a | set_b\n",
    "print(\"Union:\", union_set)"
   ]
  },
  {
   "cell_type": "code",
   "execution_count": 7,
   "id": "a7854bed-40dd-44b2-8272-4cbfc63055e4",
   "metadata": {},
   "outputs": [
    {
     "name": "stdout",
     "output_type": "stream",
     "text": [
      "Intersection: {3, 4}\n"
     ]
    }
   ],
   "source": [
    "# Intersection\n",
    "intersection_set = set_a & set_b\n",
    "print(\"Intersection:\", intersection_set)\n"
   ]
  },
  {
   "cell_type": "code",
   "execution_count": 8,
   "id": "112315d8-61c8-4767-b275-aca87a79a54b",
   "metadata": {},
   "outputs": [
    {
     "name": "stdout",
     "output_type": "stream",
     "text": [
      "Difference (set_a - set_b): {1, 2}\n"
     ]
    }
   ],
   "source": [
    "# Difference\n",
    "difference_set = set_a - set_b\n",
    "print(\"Difference (set_a - set_b):\", difference_set)"
   ]
  },
  {
   "cell_type": "code",
   "execution_count": 9,
   "id": "5c326f1d-3cf4-4bbf-8274-5f0e3cc7bd77",
   "metadata": {},
   "outputs": [
    {
     "name": "stdout",
     "output_type": "stream",
     "text": [
      "Symmetric Difference: {1, 2, 5, 6}\n"
     ]
    }
   ],
   "source": [
    "# Symmetric Difference\n",
    "sym_diff_set = set_a ^ set_b\n",
    "print(\"Symmetric Difference:\", sym_diff_set)"
   ]
  },
  {
   "cell_type": "code",
   "execution_count": 10,
   "id": "393e2182-b0ea-4cf2-936c-80cb95bc3211",
   "metadata": {},
   "outputs": [
    {
     "name": "stdout",
     "output_type": "stream",
     "text": [
      "Length of set_a: 4\n"
     ]
    }
   ],
   "source": [
    "# Length of a set\n",
    "print(\"Length of set_a:\", len(set_a))"
   ]
  },
  {
   "cell_type": "code",
   "execution_count": 12,
   "id": "aea632fa-c7ad-4c94-a2a6-ff4e8f024afa",
   "metadata": {},
   "outputs": [],
   "source": [
    "set_c = {1, 2}\n",
    "set_d = {1, 2, 3, 4}"
   ]
  },
  {
   "cell_type": "code",
   "execution_count": 13,
   "id": "62559e27-0f92-4b96-bf8c-a9b0f931b36d",
   "metadata": {},
   "outputs": [
    {
     "name": "stdout",
     "output_type": "stream",
     "text": [
      "set_c is a subset of set_d: True\n"
     ]
    }
   ],
   "source": [
    "# Checking if set_c is a subset of set_d\n",
    "print(\"set_c is a subset of set_d:\", set_c.issubset(set_d))"
   ]
  },
  {
   "cell_type": "code",
   "execution_count": 14,
   "id": "8b1fab07-e890-4c83-abcc-72c9622d9386",
   "metadata": {},
   "outputs": [
    {
     "name": "stdout",
     "output_type": "stream",
     "text": [
      "set_d is a superset of set_c: True\n"
     ]
    }
   ],
   "source": [
    "# Checking if set_d is a superset of set_c\n",
    "print(\"set_d is a superset of set_c:\", set_d.issuperset(set_c))"
   ]
  },
  {
   "cell_type": "code",
   "execution_count": 16,
   "id": "3c285975-695a-40e7-a553-dbf183ab1ad2",
   "metadata": {},
   "outputs": [
    {
     "name": "stdout",
     "output_type": "stream",
     "text": [
      "Copied set: {1, 2, 3, 4}\n"
     ]
    }
   ],
   "source": [
    "# Copy a set\n",
    "copied_set = set_a.copy()\n",
    "print(\"Copied set:\", copied_set)\n"
   ]
  },
  {
   "cell_type": "code",
   "execution_count": 17,
   "id": "0a4dc458-a356-4eec-9e17-1d7b3b8c294e",
   "metadata": {},
   "outputs": [
    {
     "name": "stdout",
     "output_type": "stream",
     "text": [
      "Unique elements: {1, 2, 3, 4, 5}\n"
     ]
    }
   ],
   "source": [
    "# List with duplicates\n",
    "my_list = [1, 2, 2, 3, 4, 4, 5]\n",
    "# Convert to set to remove duplicates\n",
    "unique_set = set(my_list)\n",
    "print(\"Unique elements:\", unique_set)"
   ]
  },
  {
   "cell_type": "code",
   "execution_count": 18,
   "id": "4f82765b-f494-47ae-89e8-798b8fef0462",
   "metadata": {},
   "outputs": [
    {
     "name": "stdout",
     "output_type": "stream",
     "text": [
      "Common elements: {3, 4}\n"
     ]
    }
   ],
   "source": [
    "#Finding Common Elements Between Two Lists Using Sets\n",
    "list1 = [1, 2, 3, 4]\n",
    "list2 = [3, 4, 5, 6]\n",
    "\n",
    "# Convert lists to sets and find common elements\n",
    "common_elements = set(list1) & set(list2)\n",
    "print(\"Common elements:\", common_elements)"
   ]
  },
  {
   "cell_type": "code",
   "execution_count": null,
   "id": "cfd16401-20b1-47f4-a261-51da696586ea",
   "metadata": {},
   "outputs": [],
   "source": [
    "\n"
   ]
  }
 ],
 "metadata": {
  "kernelspec": {
   "display_name": "Python 3 (ipykernel)",
   "language": "python",
   "name": "python3"
  },
  "language_info": {
   "codemirror_mode": {
    "name": "ipython",
    "version": 3
   },
   "file_extension": ".py",
   "mimetype": "text/x-python",
   "name": "python",
   "nbconvert_exporter": "python",
   "pygments_lexer": "ipython3",
   "version": "3.12.6"
  }
 },
 "nbformat": 4,
 "nbformat_minor": 5
}
