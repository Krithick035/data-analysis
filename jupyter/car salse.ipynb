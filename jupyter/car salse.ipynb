{
 "cells": [
  {
   "cell_type": "code",
   "execution_count": 1,
   "id": "9159d163-a1e8-42ac-8163-135dfdf8a160",
   "metadata": {},
   "outputs": [],
   "source": [
    "import pandas as pd"
   ]
  },
  {
   "cell_type": "code",
   "execution_count": 2,
   "id": "51dcd0b1-b627-4ab0-9149-64b4cdeeb94a",
   "metadata": {},
   "outputs": [],
   "source": [
    "df = pd.read_csv('Car_sales.csv')"
   ]
  },
  {
   "cell_type": "code",
   "execution_count": 3,
   "id": "798ad4ec-7b16-4eab-8b62-31df62d30ed8",
   "metadata": {},
   "outputs": [
    {
     "data": {
      "text/html": [
       "<div>\n",
       "<style scoped>\n",
       "    .dataframe tbody tr th:only-of-type {\n",
       "        vertical-align: middle;\n",
       "    }\n",
       "\n",
       "    .dataframe tbody tr th {\n",
       "        vertical-align: top;\n",
       "    }\n",
       "\n",
       "    .dataframe thead th {\n",
       "        text-align: right;\n",
       "    }\n",
       "</style>\n",
       "<table border=\"1\" class=\"dataframe\">\n",
       "  <thead>\n",
       "    <tr style=\"text-align: right;\">\n",
       "      <th></th>\n",
       "      <th>Manufacturer</th>\n",
       "      <th>Model</th>\n",
       "      <th>Sales in thousands</th>\n",
       "      <th>4-year resale value</th>\n",
       "      <th>Vehicle type</th>\n",
       "      <th>Price in thousands</th>\n",
       "      <th>Engine size</th>\n",
       "      <th>Horsepower</th>\n",
       "      <th>Wheelbase</th>\n",
       "      <th>Width</th>\n",
       "      <th>Length</th>\n",
       "      <th>Curb weight</th>\n",
       "      <th>Fuel capacity</th>\n",
       "      <th>Fuel efficiency</th>\n",
       "      <th>Latest Launch</th>\n",
       "    </tr>\n",
       "  </thead>\n",
       "  <tbody>\n",
       "    <tr>\n",
       "      <th>0</th>\n",
       "      <td>Acura</td>\n",
       "      <td>Integra</td>\n",
       "      <td>16.919</td>\n",
       "      <td>16.36</td>\n",
       "      <td>Passenger</td>\n",
       "      <td>21.5</td>\n",
       "      <td>1.8</td>\n",
       "      <td>140</td>\n",
       "      <td>101.2</td>\n",
       "      <td>67.3</td>\n",
       "      <td>172.4</td>\n",
       "      <td>2.639</td>\n",
       "      <td>13.2</td>\n",
       "      <td>28</td>\n",
       "      <td>2-Feb-14</td>\n",
       "    </tr>\n",
       "    <tr>\n",
       "      <th>1</th>\n",
       "      <td>Acura</td>\n",
       "      <td>TL</td>\n",
       "      <td>39.384</td>\n",
       "      <td>19.875</td>\n",
       "      <td>Passenger</td>\n",
       "      <td>28.4</td>\n",
       "      <td>3.2</td>\n",
       "      <td>225</td>\n",
       "      <td>108.1</td>\n",
       "      <td>70.3</td>\n",
       "      <td>192.9</td>\n",
       "      <td>3.517</td>\n",
       "      <td>17.2</td>\n",
       "      <td>25</td>\n",
       "      <td>6-Mar-15</td>\n",
       "    </tr>\n",
       "    <tr>\n",
       "      <th>2</th>\n",
       "      <td>Acura</td>\n",
       "      <td>CL</td>\n",
       "      <td>14.114</td>\n",
       "      <td>18.225</td>\n",
       "      <td>Passenger</td>\n",
       "      <td>.</td>\n",
       "      <td>3.2</td>\n",
       "      <td>225</td>\n",
       "      <td>106.9</td>\n",
       "      <td>70.6</td>\n",
       "      <td>192</td>\n",
       "      <td>3.47</td>\n",
       "      <td>17.2</td>\n",
       "      <td>26</td>\n",
       "      <td>1-Apr-14</td>\n",
       "    </tr>\n",
       "    <tr>\n",
       "      <th>3</th>\n",
       "      <td>Acura</td>\n",
       "      <td>RL</td>\n",
       "      <td>8.588</td>\n",
       "      <td>29.725</td>\n",
       "      <td>Passenger</td>\n",
       "      <td>42</td>\n",
       "      <td>3.5</td>\n",
       "      <td>210</td>\n",
       "      <td>114.6</td>\n",
       "      <td>71.4</td>\n",
       "      <td>196.6</td>\n",
       "      <td>3.85</td>\n",
       "      <td>18</td>\n",
       "      <td>22</td>\n",
       "      <td>3-Oct-15</td>\n",
       "    </tr>\n",
       "    <tr>\n",
       "      <th>4</th>\n",
       "      <td>Audi</td>\n",
       "      <td>A4</td>\n",
       "      <td>20.397</td>\n",
       "      <td>22.255</td>\n",
       "      <td>Passenger</td>\n",
       "      <td>23.99</td>\n",
       "      <td>1.8</td>\n",
       "      <td>150</td>\n",
       "      <td>102.6</td>\n",
       "      <td>68.2</td>\n",
       "      <td>178</td>\n",
       "      <td>2.998</td>\n",
       "      <td>16.4</td>\n",
       "      <td>27</td>\n",
       "      <td>10-Aug-15</td>\n",
       "    </tr>\n",
       "  </tbody>\n",
       "</table>\n",
       "</div>"
      ],
      "text/plain": [
       "    Manufacturer              Model  Sales in thousands 4-year resale value  \\\n",
       "0  Acura          Integra                        16.919               16.36   \n",
       "1  Acura          TL                             39.384              19.875   \n",
       "2  Acura          CL                             14.114              18.225   \n",
       "3  Acura          RL                              8.588              29.725   \n",
       "4  Audi           A4                             20.397              22.255   \n",
       "\n",
       "  Vehicle type Price in thousands Engine size Horsepower Wheelbase Width  \\\n",
       "0    Passenger               21.5         1.8        140     101.2  67.3   \n",
       "1    Passenger               28.4         3.2        225     108.1  70.3   \n",
       "2    Passenger                  .         3.2        225     106.9  70.6   \n",
       "3    Passenger                 42         3.5        210     114.6  71.4   \n",
       "4    Passenger              23.99         1.8        150     102.6  68.2   \n",
       "\n",
       "  Length Curb weight Fuel capacity Fuel efficiency Latest Launch  \n",
       "0  172.4       2.639          13.2              28      2-Feb-14  \n",
       "1  192.9       3.517          17.2              25      6-Mar-15  \n",
       "2    192        3.47          17.2              26      1-Apr-14  \n",
       "3  196.6        3.85            18              22      3-Oct-15  \n",
       "4    178       2.998          16.4              27     10-Aug-15  "
      ]
     },
     "execution_count": 3,
     "metadata": {},
     "output_type": "execute_result"
    }
   ],
   "source": [
    "df.head()"
   ]
  },
  {
   "cell_type": "code",
   "execution_count": 4,
   "id": "ace9a832-827f-4dfd-9849-bfe6185ed34f",
   "metadata": {},
   "outputs": [],
   "source": [
    "import pandas as pd\n",
    "import matplotlib.pyplot as plt\n",
    "import seaborn as sns"
   ]
  },
  {
   "cell_type": "code",
   "execution_count": 5,
   "id": "d3b464ac-d16d-4e10-9d61-ccbf5861d1fa",
   "metadata": {},
   "outputs": [],
   "source": [
    "columns_to_clean = [\n",
    "    '4-year resale value', 'Price in thousands', 'Engine size', 'Horsepower',\n",
    "    'Wheelbase', 'Width', 'Length', 'Curb weight', 'Fuel capacity', 'Fuel efficiency'\n",
    "]"
   ]
  },
  {
   "cell_type": "code",
   "execution_count": 6,
   "id": "cfa1e27a-47dc-411a-b6df-4279575c5f90",
   "metadata": {},
   "outputs": [],
   "source": [
    "columns_to_clean = [\n",
    "    '4-year resale value', 'Price in thousands', 'Engine size', 'Horsepower',\n",
    "    'Wheelbase', 'Width', 'Length', 'Curb weight', 'Fuel capacity', 'Fuel efficiency'\n",
    "]"
   ]
  },
  {
   "cell_type": "code",
   "execution_count": 7,
   "id": "224a8ad6-84b5-4ddf-b2fb-27e53be75191",
   "metadata": {},
   "outputs": [
    {
     "ename": "NameError",
     "evalue": "name 'np' is not defined",
     "output_type": "error",
     "traceback": [
      "\u001b[1;31m---------------------------------------------------------------------------\u001b[0m",
      "\u001b[1;31mNameError\u001b[0m                                 Traceback (most recent call last)",
      "Cell \u001b[1;32mIn[7], line 2\u001b[0m\n\u001b[0;32m      1\u001b[0m \u001b[38;5;66;03m# Step 2: Replace invalid values (e.g., '.' or empty strings) with NaN\u001b[39;00m\n\u001b[1;32m----> 2\u001b[0m df[columns_to_clean] \u001b[38;5;241m=\u001b[39m df[columns_to_clean]\u001b[38;5;241m.\u001b[39mreplace([\u001b[38;5;124m'\u001b[39m\u001b[38;5;124m.\u001b[39m\u001b[38;5;124m'\u001b[39m, \u001b[38;5;124m'\u001b[39m\u001b[38;5;124m'\u001b[39m], \u001b[43mnp\u001b[49m\u001b[38;5;241m.\u001b[39mnan)\n",
      "\u001b[1;31mNameError\u001b[0m: name 'np' is not defined"
     ]
    }
   ],
   "source": [
    "# Step 2: Replace invalid values (e.g., '.' or empty strings) with NaN\n",
    "df[columns_to_clean] = df[columns_to_clean].replace(['.', ''], np.nan)\n"
   ]
  },
  {
   "cell_type": "code",
   "execution_count": null,
   "id": "7d832d82-6538-4ba6-ad3d-17bce1ab134c",
   "metadata": {},
   "outputs": [],
   "source": [
    "columns_to_clean = [\n",
    "    '4-year resale value', 'Price in thousands', 'Engine size', 'Horsepower',\n",
    "    'Wheelbase', 'Width', 'Length', 'Curb weight', 'Fuel capacity', 'Fuel efficiency'\n",
    "]"
   ]
  },
  {
   "cell_type": "code",
   "execution_count": null,
   "id": "e93c1947-0a4f-45ef-862e-57131df7dc34",
   "metadata": {},
   "outputs": [],
   "source": [
    "# Step 2: Replace invalid values (e.g., '.' or empty strings) with NaN\n",
    "df[columns_to_clean] = df[columns_to_clean].replace(['.', ''], np.nan)\n"
   ]
  },
  {
   "cell_type": "code",
   "execution_count": null,
   "id": "16b2f69b-118f-488b-92a3-2bf5c98353e5",
   "metadata": {},
   "outputs": [],
   "source": [
    "df_filled = df.fillna(df.mean(numeric_only=True))"
   ]
  },
  {
   "cell_type": "code",
   "execution_count": null,
   "id": "1c2a6cc8-5430-4827-a265-9aad35355543",
   "metadata": {},
   "outputs": [],
   "source": [
    "df_cleaned = df.dropna()\n",
    "\n",
    "# Option 2: Fill missing values with mean or median (for numeric columns)\n",
    "df_filled = df.fillna(df.mean(numeric_only=True))\n",
    "\n",
    "# You can choose either df_cleaned or df_filled depending on your strategy\n",
    "\n",
    "# Display cleaned data\n",
    "print(\"Cleaned Data (with NaN values handled):\")\n",
    "display(df_cleaned.head())\n",
    "\n",
    "# Save the cleaned dataset (optional)\n",
    "df_cleaned.to_csv('cleaned_car_sales.csv', index=False)\n"
   ]
  },
  {
   "cell_type": "code",
   "execution_count": null,
   "id": "58f22f55-d299-4f66-b6fe-e2cc57a899a9",
   "metadata": {},
   "outputs": [],
   "source": [
    "import pandas as pd\n",
    "import numpy as np\n",
    "import seaborn as sns\n",
    "import matplotlib.pyplot as plt"
   ]
  },
  {
   "cell_type": "code",
   "execution_count": null,
   "id": "fb942ddc-66df-41b0-8cbf-dc02e3f4b71d",
   "metadata": {},
   "outputs": [],
   "source": [
    "plt.figure(figsize=(10,6))\n",
    "sns.histplot(df['Price in thousands'], kde=True, bins=20)\n",
    "plt.title('Distribution of Car Prices')\n",
    "plt.xlabel('Price in thousands')\n",
    "plt.ylabel('Frequency')\n",
    "plt.show()"
   ]
  },
  {
   "cell_type": "code",
   "execution_count": null,
   "id": "4a1afd59-5f17-48e7-95bc-3d58f94bffee",
   "metadata": {},
   "outputs": [],
   "source": [
    "plt.figure(figsize=(10,6))\n",
    "sns.scatterplot(x='Horsepower', y='Price in thousands', data=df)\n",
    "plt.title('Horsepower vs. Price')\n",
    "plt.xlabel('Horsepower')\n",
    "plt.ylabel('Price in thousands')\n",
    "plt.show()"
   ]
  },
  {
   "cell_type": "code",
   "execution_count": null,
   "id": "cf4a8b9c-df01-4e71-9e24-ae78533874e7",
   "metadata": {},
   "outputs": [],
   "source": [
    "plt.figure(figsize=(10,6))\n",
    "sns.boxplot(x='Vehicle type', y='Price in thousands', data=df)\n",
    "plt.title('Price Distribution by Vehicle Type')\n",
    "plt.xlabel('Vehicle Type')\n",
    "plt.ylabel('Price in thousands')\n",
    "plt.show()"
   ]
  },
  {
   "cell_type": "code",
   "execution_count": null,
   "id": "9ca92ab1-6827-4f93-b12e-0f8f8f9bb10a",
   "metadata": {},
   "outputs": [],
   "source": [
    "plt.figure(figsize=(12,8))\n",
    "correlation_matrix = df.corr(numeric_only=True)\n",
    "sns.heatmap(correlation_matrix, annot=True, cmap='coolwarm', linewidths=0.5)\n",
    "plt.title('Correlation Matrix')\n",
    "plt.show()"
   ]
  },
  {
   "cell_type": "code",
   "execution_count": null,
   "id": "69804528-378e-49f0-930b-941e746cecda",
   "metadata": {},
   "outputs": [],
   "source": [
    "df['Latest Launch'] = pd.to_datetime(df['Latest Launch'])\n",
    "df.sort_values(by='Latest Launch', inplace=True)\n",
    "\n",
    "plt.figure(figsize=(10,6))\n",
    "sns.lineplot(x='Latest Launch', y='Sales in thousands', data=df)\n",
    "plt.title('Sales Trend Over Time')\n",
    "plt.xlabel('Launch Date')\n",
    "plt.ylabel('Sales in thousands')\n",
    "plt.xticks(rotation=45)\n",
    "plt.show()"
   ]
  },
  {
   "cell_type": "code",
   "execution_count": null,
   "id": "efc08584-665e-48a7-89fc-ebc23e568b65",
   "metadata": {},
   "outputs": [],
   "source": [
    "# 6. Pairplot: Relationships Between Multiple Numeric Variables\n",
    "plt.figure(figsize=(10,6))\n",
    "sns.pairplot(df[['Price in thousands', 'Horsepower', 'Engine size', 'Sales in thousands']])\n",
    "plt.suptitle('Pairplot of Numeric Variables', y=1.02)\n",
    "plt.show()"
   ]
  },
  {
   "cell_type": "code",
   "execution_count": null,
   "id": "56bc2d05-b9b2-495a-a7ef-765099b2024e",
   "metadata": {},
   "outputs": [],
   "source": [
    "# Set the aesthetic style of the plots\n",
    "sns.set(style=\"whitegrid\")"
   ]
  },
  {
   "cell_type": "code",
   "execution_count": null,
   "id": "5819ed15-e323-4235-b928-d6a3192816a4",
   "metadata": {},
   "outputs": [],
   "source": [
    "# 1. Bar Plot: Count of Vehicle Types for Each Manufacturer\n",
    "plt.figure(figsize=(12,8))\n",
    "sns.countplot(data=df, x='Manufacturer', hue='Vehicle type')\n",
    "plt.title('Vehicle Type Comparison by Manufacturer')\n",
    "plt.xlabel('Manufacturer')\n",
    "plt.ylabel('Count of Vehicle Types')\n",
    "plt.xticks(rotation=45)\n",
    "plt.legend(title='Vehicle Type')\n",
    "plt.show()\n"
   ]
  },
  {
   "cell_type": "code",
   "execution_count": null,
   "id": "e7c30051-18c5-4ffd-8b1b-e538b85d869f",
   "metadata": {},
   "outputs": [],
   "source": [
    "# 2. Bar Plot: Number of Models for Each Manufacturer\n",
    "plt.figure(figsize=(12,8))\n",
    "# Group by Manufacturer and count the number of unique models\n",
    "model_count_by_manufacturer = df.groupby('Manufacturer')['Model'].nunique().reset_index()\n",
    "model_count_by_manufacturer.columns = ['Manufacturer', 'Number of Models']\n"
   ]
  },
  {
   "cell_type": "code",
   "execution_count": null,
   "id": "8f1eec6d-1f16-4117-9a11-207c07ec75d3",
   "metadata": {},
   "outputs": [],
   "source": [
    "sns.barplot(data=model_count_by_manufacturer, x='Manufacturer', y='Number of Models', palette='viridis')\n",
    "plt.title('Number of Models by Manufacturer')\n",
    "plt.xlabel('Manufacturer')\n",
    "plt.ylabel('Number of Models')\n",
    "plt.xticks(rotation=45)\n",
    "plt.show()"
   ]
  },
  {
   "cell_type": "code",
   "execution_count": null,
   "id": "de18d5a6-e0ea-430e-ac3b-cbe4f8335bcf",
   "metadata": {},
   "outputs": [],
   "source": [
    "import pandas as pd\n",
    "import seaborn as sns\n",
    "import matplotlib.pyplot as plt\n",
    "\n",
    "# Load the cleaned dataset\n",
    "file_path = 'cleaned_car_sales.csv'  # Update with your file path\n",
    "df = pd.read_csv(file_path)\n",
    "\n",
    "# Group by Manufacturer and sum up the sales\n",
    "sales_by_manufacturer = df.groupby('Manufacturer')['Sales in thousands'].sum().reset_index()\n",
    "\n",
    "# Sort by sales in descending order to find the highest\n",
    "sales_by_manufacturer = sales_by_manufacturer.sort_values(by='Sales in thousands', ascending=False)\n",
    "\n",
    "# Display the top brands by sales\n",
    "print(sales_by_manufacturer.head())\n",
    "\n",
    "# Bar Plot: Total Sales by Manufacturer\n",
    "plt.figure(figsize=(12,8))\n",
    "sns.barplot(data=sales_by_manufacturer, x='Manufacturer', y='Sales in thousands', palette='coolwarm')\n",
    "plt.title('Total Sales by Manufacturer')\n",
    "plt.xlabel('Manufacturer')\n",
    "plt.ylabel('Total Sales (in thousands)')\n",
    "plt.xticks(rotation=45)\n",
    "plt.show()\n"
   ]
  },
  {
   "cell_type": "code",
   "execution_count": null,
   "id": "eacd100c-b65f-4128-94d1-b3068b169ace",
   "metadata": {},
   "outputs": [],
   "source": [
    "import pandas as pd\n",
    "import seaborn as sns\n",
    "import matplotlib.pyplot as plt\n",
    "\n",
    "# Load the cleaned dataset\n",
    "file_path = 'cleaned_car_sales.csv'  # Update with your file path\n",
    "df = pd.read_csv(file_path)\n",
    "\n",
    "# Ensure the 'Latest Launch' column is in datetime format\n",
    "df['Latest Launch'] = pd.to_datetime(df['Latest Launch'], errors='coerce')\n",
    "\n",
    "# Step 1: Extract the year from the 'Latest Launch' column\n",
    "df['Launch Year'] = df['Latest Launch'].dt.year\n",
    "\n",
    "# Step 2: Group the data by year and sum the sales\n",
    "sales_by_year = df.groupby('Launch Year')['Sales in thousands'].sum().reset_index()\n",
    "\n",
    "# Step 3: Sort by year (ascending) to calculate year-over-year changes\n",
    "sales_by_year = sales_by_year.sort_values(by='Launch Year')\n",
    "\n",
    "# Optional: Calculate the year-over-year sales growth\n",
    "sales_by_year['YoY Sales Growth (%)'] = sales_by_year['Sales in thousands'].pct_change() * 100\n",
    "\n",
    "# Display the year-wise sales and growth\n",
    "print(sales_by_year)\n",
    "\n",
    "# Step 4: Visualize the year-wise sales trend\n",
    "plt.figure(figsize=(10,6))\n",
    "sns.lineplot(data=sales_by_year, x='Launch Year', y='Sales in thousands', marker='o', color='b')\n",
    "plt.title('Year-wise Total Sales Trend')\n",
    "plt.xlabel('Year')\n",
    "plt.ylabel('Sales in thousands')\n",
    "plt.xticks(rotation=45)\n",
    "plt.grid(True)\n",
    "plt.show()\n",
    "\n",
    "# Step 5: Visualize year-over-year sales growth (optional)\n",
    "plt.figure(figsize=(10,6))\n",
    "sns.barplot(data=sales_by_year, x='Launch Year', y='YoY Sales Growth (%)', palette='coolwarm')\n",
    "plt.title('Year-over-Year Sales Growth (%)')\n",
    "plt.xlabel('Year')\n",
    "plt.ylabel('YoY Sales Growth (%)')\n",
    "plt.xticks(rotation=45)\n",
    "plt.grid(True)\n",
    "plt.show()\n"
   ]
  },
  {
   "cell_type": "code",
   "execution_count": null,
   "id": "9cbd1c89-06ac-4ad3-b02f-28d038434468",
   "metadata": {},
   "outputs": [],
   "source": [
    "df.to_csv(\"cleaned_Car_sales.csv\", index = True)"
   ]
  },
  {
   "cell_type": "code",
   "execution_count": 12,
   "id": "af59205a-e4bd-4258-9285-1c36b0d17b66",
   "metadata": {},
   "outputs": [
    {
     "name": "stdout",
     "output_type": "stream",
     "text": [
      "Dataset Information:\n"
     ]
    },
    {
     "ename": "NameError",
     "evalue": "name 'Car_sales' is not defined",
     "output_type": "error",
     "traceback": [
      "\u001b[1;31m---------------------------------------------------------------------------\u001b[0m",
      "\u001b[1;31mNameError\u001b[0m                                 Traceback (most recent call last)",
      "Cell \u001b[1;32mIn[12], line 3\u001b[0m\n\u001b[0;32m      1\u001b[0m \u001b[38;5;66;03m# Display basic information about the dataset\u001b[39;00m\n\u001b[0;32m      2\u001b[0m \u001b[38;5;28mprint\u001b[39m(\u001b[38;5;124m\"\u001b[39m\u001b[38;5;124mDataset Information:\u001b[39m\u001b[38;5;124m\"\u001b[39m)\n\u001b[1;32m----> 3\u001b[0m \u001b[43mCar_sales\u001b[49m\u001b[38;5;241m.\u001b[39mcsv()\n",
      "\u001b[1;31mNameError\u001b[0m: name 'Car_sales' is not defined"
     ]
    }
   ],
   "source": [
    "# Display basic information about the dataset\n",
    "print(\"Dataset Information:\")\n",
    "Car_sales.csv()"
   ]
  },
  {
   "cell_type": "code",
   "execution_count": 11,
   "id": "9602db34-cec4-4632-9868-963b0fc8da9e",
   "metadata": {},
   "outputs": [
    {
     "ename": "NameError",
     "evalue": "name 'car_sales_data' is not defined",
     "output_type": "error",
     "traceback": [
      "\u001b[1;31m---------------------------------------------------------------------------\u001b[0m",
      "\u001b[1;31mNameError\u001b[0m                                 Traceback (most recent call last)",
      "Cell \u001b[1;32mIn[11], line 5\u001b[0m\n\u001b[0;32m      1\u001b[0m \u001b[38;5;66;03m# Step 1: Replace '.' with NaN in the relevant columns\u001b[39;00m\n\u001b[0;32m      2\u001b[0m cols_to_clean \u001b[38;5;241m=\u001b[39m [\u001b[38;5;124m'\u001b[39m\u001b[38;5;124mPrice in thousands\u001b[39m\u001b[38;5;124m'\u001b[39m, \u001b[38;5;124m'\u001b[39m\u001b[38;5;124mEngine size\u001b[39m\u001b[38;5;124m'\u001b[39m, \u001b[38;5;124m'\u001b[39m\u001b[38;5;124mHorsepower\u001b[39m\u001b[38;5;124m'\u001b[39m, \u001b[38;5;124m'\u001b[39m\u001b[38;5;124mWheelbase\u001b[39m\u001b[38;5;124m'\u001b[39m, \u001b[38;5;124m'\u001b[39m\u001b[38;5;124mWidth\u001b[39m\u001b[38;5;124m'\u001b[39m, \n\u001b[0;32m      3\u001b[0m                  \u001b[38;5;124m'\u001b[39m\u001b[38;5;124mLength\u001b[39m\u001b[38;5;124m'\u001b[39m, \u001b[38;5;124m'\u001b[39m\u001b[38;5;124mCurb weight\u001b[39m\u001b[38;5;124m'\u001b[39m, \u001b[38;5;124m'\u001b[39m\u001b[38;5;124mFuel capacity\u001b[39m\u001b[38;5;124m'\u001b[39m, \u001b[38;5;124m'\u001b[39m\u001b[38;5;124mFuel efficiency\u001b[39m\u001b[38;5;124m'\u001b[39m]\n\u001b[1;32m----> 5\u001b[0m car_sales_data[cols_to_clean] \u001b[38;5;241m=\u001b[39m \u001b[43mcar_sales_data\u001b[49m[cols_to_clean]\u001b[38;5;241m.\u001b[39mreplace(\u001b[38;5;124m'\u001b[39m\u001b[38;5;124m.\u001b[39m\u001b[38;5;124m'\u001b[39m, np\u001b[38;5;241m.\u001b[39mnan)\n",
      "\u001b[1;31mNameError\u001b[0m: name 'car_sales_data' is not defined"
     ]
    }
   ],
   "source": [
    "# Step 1: Replace '.' with NaN in the relevant columns\n",
    "cols_to_clean = ['Price in thousands', 'Engine size', 'Horsepower', 'Wheelbase', 'Width', \n",
    "                 'Length', 'Curb weight', 'Fuel capacity', 'Fuel efficiency']\n",
    "\n",
    "car_sales_data[cols_to_clean] = car_sales_data[cols_to_clean].replace('.', np.nan)\n"
   ]
  },
  {
   "cell_type": "code",
   "execution_count": null,
   "id": "93626254-9c46-45b0-a606-b75d493a66d5",
   "metadata": {},
   "outputs": [],
   "source": []
  }
 ],
 "metadata": {
  "kernelspec": {
   "display_name": "Python 3 (ipykernel)",
   "language": "python",
   "name": "python3"
  },
  "language_info": {
   "codemirror_mode": {
    "name": "ipython",
    "version": 3
   },
   "file_extension": ".py",
   "mimetype": "text/x-python",
   "name": "python",
   "nbconvert_exporter": "python",
   "pygments_lexer": "ipython3",
   "version": "3.12.6"
  }
 },
 "nbformat": 4,
 "nbformat_minor": 5
}
